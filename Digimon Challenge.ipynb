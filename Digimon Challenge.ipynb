{
 "cells": [
  {
   "cell_type": "markdown",
   "metadata": {},
   "source": [
    "# Digimon Dataset Challenge from Kaggle:\n",
    "\n",
    "[Dataset](https://www.kaggle.com/rtatman/digidb/home)\n",
    "\n",
    "This project is more to refamiliarise myself with using numpy and pandas, and also give Jupyter a whirl.\n"
   ]
  },
  {
   "cell_type": "code",
   "execution_count": 29,
   "metadata": {},
   "outputs": [
    {
     "name": "stdout",
     "output_type": "stream",
     "text": [
      "Requirement already satisfied: numpy in /usr/local/lib/python3.7/site-packages (1.15.3)\n",
      "Requirement already satisfied: pandas in /usr/local/lib/python3.7/site-packages (0.23.4)\n",
      "Requirement already satisfied: numpy>=1.9.0 in /usr/local/lib/python3.7/site-packages (from pandas) (1.15.3)\n",
      "Requirement already satisfied: python-dateutil>=2.5.0 in /usr/local/lib/python3.7/site-packages (from pandas) (2.7.3)\n",
      "Requirement already satisfied: pytz>=2011k in /usr/local/lib/python3.7/site-packages (from pandas) (2018.7)\n",
      "Requirement already satisfied: six>=1.5 in /usr/local/lib/python3.7/site-packages (from python-dateutil>=2.5.0->pandas) (1.11.0)\n"
     ]
    }
   ],
   "source": [
    "# Install necessary packages\n",
    "\n",
    "import sys\n",
    "\n",
    "packages = [\"numpy\", \"pandas\"]\n",
    "for package in packages:\n",
    "    !{sys.executable} -m pip install {package}"
   ]
  },
  {
   "cell_type": "code",
   "execution_count": 30,
   "metadata": {},
   "outputs": [],
   "source": [
    "# Necessary imports\n",
    "\n",
    "import pandas as pd\n",
    "import numpy as np"
   ]
  },
  {
   "cell_type": "code",
   "execution_count": null,
   "metadata": {},
   "outputs": [],
   "source": [
    "# Constants\n",
    "digimon_list_path = \"./digimon-database/DigiDB_digimonlist.csv\"\n",
    "digimon_moves_path = \"./digimon-database/DigiDB_movelist.csv\"\n",
    "digimon_supports_path = \"./digimon-database/DigiDB_supportlist.csv\""
   ]
  },
  {
   "cell_type": "code",
   "execution_count": 4,
   "metadata": {},
   "outputs": [
    {
     "name": "stdout",
     "output_type": "stream",
     "text": [
      "Digimon Details: \n",
      "(249, 13) \n",
      " Index(['Number', 'Digimon', 'Stage', 'Type', 'Attribute', 'Memory',\n",
      "       'Equip Slots', 'Lv 50 HP', 'Lv50 SP', 'Lv50 Atk', 'Lv50 Def',\n",
      "       'Lv50 Int', 'Lv50 Spd'],\n",
      "      dtype='object')\n",
      "Digimon moves: \n",
      "(387, 7) \n",
      " Index(['Move', 'SP Cost', 'Type', 'Power', 'Attribute', 'Inheritable',\n",
      "       'Description'],\n",
      "      dtype='object')\n",
      "Digimon supports: \n",
      "(86, 2) \n",
      " Index(['Name', 'Description'], dtype='object')\n"
     ]
    }
   ],
   "source": [
    "# Load datasets\n",
    "digimon_df = pd.read_csv(digimon_list_path)\n",
    "moves_df = pd.read_csv(digimon_moves_path)\n",
    "supports_df = pd.read_csv(digimon_supports_path)\n",
    "\n",
    "print(\"Digimon Details: \\n{} \\n {}\".format(digimon_df.shape, digimon_df.columns))\n",
    "print(\"Digimon moves: \\n{} \\n {}\".format(moves_df.shape, moves_df.columns))\n",
    "print(\"Digimon supports: \\n{} \\n {}\".format(supports_df.shape, supports_df.columns))"
   ]
  },
  {
   "cell_type": "code",
   "execution_count": 5,
   "metadata": {},
   "outputs": [
    {
     "name": "stdout",
     "output_type": "stream",
     "text": [
      "                        Move  SP Cost      Type  Power Attribute Inheritable  \\\n",
      "0              Wolkenapalm I        3  Physical     65      Fire         Yes   \n",
      "1             Wolkenapalm II        6  Physical     85      Fire         Yes   \n",
      "2            Wolkenapalm III        9  Physical    105      Fire         Yes   \n",
      "3              Burst Flame I        3     Magic     55      Fire         Yes   \n",
      "4             Burst Flame II        6     Magic     75      Fire         Yes   \n",
      "5            Burst Flame III        9     Magic     95      Fire         Yes   \n",
      "6              Meteor Fall I        4  Physical     30      Fire         Yes   \n",
      "7             Meteor Fall II        7  Physical     45      Fire         Yes   \n",
      "8            Meteor Fall III       10  Physical     75      Fire         Yes   \n",
      "9                 Panic Wisp       10     Magic     30      Fire         Yes   \n",
      "10             Ice Archery I        3  Physical     65     Water         Yes   \n",
      "11            Ice Archery II        6  Physical     85     Water         Yes   \n",
      "12           Ice Archery III        9  Physical    105     Water         Yes   \n",
      "13             Hydro Water I        3     Magic     55     Water         Yes   \n",
      "14            Hydro Water II        6     Magic     75     Water         Yes   \n",
      "15           Hydro Water III        9     Magic     95     Water         Yes   \n",
      "16              Ocean Wave I        4     Magic     20     Water         Yes   \n",
      "17             Ocean Wave II        7     Magic     35     Water         Yes   \n",
      "18            Ocean Wave III       10     Magic     65     Water         Yes   \n",
      "19               Idle Bubble       10     Magic     30     Water         Yes   \n",
      "20           Crescent Leaf I        3  Physical     65     Plant         Yes   \n",
      "21          Crescent Leaf II        6  Physical     85     Plant         Yes   \n",
      "22         Crescent Leaf III        9  Physical    105     Plant         Yes   \n",
      "23            Gaia Element I        3     Magic     55     Plant         Yes   \n",
      "24           Gaia Element II        6     Magic     75     Plant         Yes   \n",
      "25          Gaia Element III        9     Magic     95     Plant         Yes   \n",
      "26             Rune Forest I        4     Magic     20     Plant         Yes   \n",
      "27            Rune Forest II        7     Magic     35     Plant         Yes   \n",
      "28           Rune Forest III       10     Magic     65     Plant         Yes   \n",
      "29                Venom Trap       10  Physical     40     Plant         Yes   \n",
      "..                       ...      ...       ...    ...       ...         ...   \n",
      "357      Final Shining Burst       20  Physical    200      Fire          No   \n",
      "358  Full Moon Meteor Impact       20  Physical    120     Light          No   \n",
      "359           Mourning Dance       20  Physical     20      Dark          No   \n",
      "360       Aguichant L\\E8vres       30     Magic      0     Light          No   \n",
      "361               Omni Sword       30  Physical    150   Neutral          No   \n",
      "362       Transcendent Sword       30  Physical    115      Fire          No   \n",
      "363         Gift of Darkness       60  Physical      0      Dark          No   \n",
      "364         Divine Atonement       30     Magic    105     Light          No   \n",
      "365             Bantyo Blade       20  Physical    150   Neutral          No   \n",
      "366             Flaming Fist       10  Physical     50      Fire          No   \n",
      "367       S-Gold Solar Storm       25     Magic     75     Light          No   \n",
      "368          Golden Triangle       20     Magic    110     Light          No   \n",
      "369      Soul Digitalization       25     Magic     95   Neutral          No   \n",
      "370            Victory Sword       25  Physical     65      Wind          No   \n",
      "371            Great Tornado       40  Physical      0      Fire          No   \n",
      "372          Dragonic Impact       50  Physical    100      Fire          No   \n",
      "373           Judecca Prison       25     Magic    115      Dark          No   \n",
      "374               Table Flip       25  Physical    100     Earth          No   \n",
      "375       Breath of the Gods       25   Support      0   Neutral          No   \n",
      "376                Weltgeist       25   Support      0   Neutral          No   \n",
      "377            Odin's Breath       25  Physical    105     Water          No   \n",
      "378       Shield of the Just       25     Magic    115     Light          No   \n",
      "379            Dragon's Roar       25  Physical     55      Fire          No   \n",
      "380         Black Aura Blast       25     Magic    110      Dark          No   \n",
      "381            Black Tornado       40  Physical      0      Dark          No   \n",
      "382          Garuru Tomahawk       20  Physical    140   Neutral          No   \n",
      "383           Fist of Athena       50  Physical      0      Fire          No   \n",
      "384           Supreme Cannon       30     Magic    130     Water          No   \n",
      "385          Dark Prominence       30     Magic      0      Dark          No   \n",
      "386             Plasma Shoot       25  Physical     35      Fire          No   \n",
      "\n",
      "                                           Description  \n",
      "0    Physical attack, 65 Fire damage to one foe. 95...  \n",
      "1    Physical attack, 85 Fire damage to one foe. 95...  \n",
      "2    Physical attack, 105 Fire damage to one foe. 9...  \n",
      "3    Magic attack, 55 Fire damage to one foe. 95% a...  \n",
      "4    Magic attack, 75 Fire damage to one foe. 95% a...  \n",
      "5    Magic attack, 95 Fire damage to one foe. 95% a...  \n",
      "6    Physical attack, 30 Fire damage to all foes. 9...  \n",
      "7    Physical attack, 45 Fire damage to all foes. 9...  \n",
      "8    Physical attack, 75 Fire damage to all foes. 9...  \n",
      "9    Magic attack, 30 Fire damage to one foe. Infli...  \n",
      "10   Physical attack, 65 Water damage to one foe. 9...  \n",
      "11   Physical attack, 85 Water damage to one foe. 9...  \n",
      "12   Physical attack, 105 Water damage to one foe. ...  \n",
      "13   Magic attack, 55 Water damage to one foe. 95% ...  \n",
      "14   Magic attack, 75 Water damage to one foe. 95% ...  \n",
      "15   Magic attack, 95 Water damage to one foe. 95% ...  \n",
      "16   Magic attack, 20 Water damage to all foes. 95%...  \n",
      "17   Magic attack, 35 Water damage to all foes. 95%...  \n",
      "18   Magic attack, 65 Water damage to all foes. 95%...  \n",
      "19   Magic attack, 30 Water damage to one foe. Infl...  \n",
      "20   Physical attack, 65 Plant damage to one foe. 9...  \n",
      "21   Physical attack, 85 Plant damage to one foe. 9...  \n",
      "22   Physical attack, 105 Plant damage to one foe. ...  \n",
      "23   Magic attack, 55 Plant damage to one foe. 95% ...  \n",
      "24   Magic attack, 75 Plant damage to one foe. 95% ...  \n",
      "25   Magic attack, 95 Plant damage to one foe. 95% ...  \n",
      "26   Magic attack, 20 Plant damage to all foes. 95%...  \n",
      "27   Magic attack, 35 Plant damage to all foes. 95%...  \n",
      "28   Magic attack, 65 Plant damage to all foes. 95%...  \n",
      "29   Physical attack, 40 Plant damage to one foe. I...  \n",
      "..                                                 ...  \n",
      "357  Physical attack, 200 Fire damage to all foes. ...  \n",
      "358  Physical attack, 120 Light damage to one foe. ...  \n",
      "359  8 physical attacks, 20 Dark damage to one foe....  \n",
      "360  INT-penetrating Light attack on one foe and ab...  \n",
      "361  Physical attack, 150 Neutral damage to one foe...  \n",
      "362      Physical attack, 115 Fire damage to all foes.  \n",
      "363  DEF-penetrating attack, triple Dark damage to ...  \n",
      "364        Magic attack, 105 Light damage to all foes.  \n",
      "365  Physical attack, 150 Neutral damage to one foe...  \n",
      "366       Physical attack, 50 Fire damage to all foes.  \n",
      "367  Magic attack, 75 Light damage to all foes. Inc...  \n",
      "368  Magic attack, 110 Light damage to one foe. Inc...  \n",
      "369  Magic attack, 95 Neutral damage to all foes. 5...  \n",
      "370     2 physical attacks, 65 Wind damage to one foe.  \n",
      "371  DEF-penetrating attack, double Fire damage to ...  \n",
      "372  Physical attack, 100 Fire damage to all foes. ...  \n",
      "373  Magic attack, 115 Dark damage to one foe. Alwa...  \n",
      "374  Physical attack, 100 Earth damage to all foes....  \n",
      "375     Nullifies any damage received until next turn.  \n",
      "376  Nullify all received damage until the next tur...  \n",
      "377  Physical attack, 105 Water damage to all foes....  \n",
      "378  Magic attack, 115 Light damage to one foe. Alw...  \n",
      "379  2 physical attacks, 55 Fire damage to a foe an...  \n",
      "380  Magic attack, 110 Dark damage to one foe. Decr...  \n",
      "381  DEF-penetrating attack, double Dark damage to ...  \n",
      "382  Physical attack, 140 Neutral damage to one foe...  \n",
      "383  DEF-penetrating attack, triple Fire damage to ...  \n",
      "384         Magic attack, 130 Water damage to one foe.  \n",
      "385  INT-penetrating Dark attack to one foe. 50% ch...  \n",
      "386    3 physical attacks, 35 Fire damage to all foes.  \n",
      "\n",
      "[387 rows x 7 columns]\n"
     ]
    }
   ],
   "source": [
    "print(moves_df)"
   ]
  },
  {
   "cell_type": "markdown",
   "metadata": {},
   "source": [
    "### Challenge 1: Which set of moves will get the best ratio of attack power to SP spent?\n",
    "\n",
    "To do this, we create a numpy array with two columns:\n",
    "* SP Cost\n",
    "* Attack Power\n",
    "\n",
    "We have the condition that no moves with an attack power of 0 are included.\n",
    "\n",
    "We then calculate the ratios of Power to SP Cost by dividing power by SP Cost. The higher the resulting ratio, the better the power to cost ratio."
   ]
  },
  {
   "cell_type": "code",
   "execution_count": 11,
   "metadata": {},
   "outputs": [
    {
     "name": "stdout",
     "output_type": "stream",
     "text": [
      "Deleted 86 rows\n"
     ]
    }
   ],
   "source": [
    "moves_matrix = moves_df.values\n",
    "moves_matrix = moves_matrix[moves_matrix[:,3] > 0]\n",
    "print(\"Deleted {} rows\".format(moves_df.shape[0] - moves_matrix.shape[0]))\n",
    "sp_cost = moves_matrix[:,1]\n",
    "power = moves_matrix[:,3]\n",
    "\n",
    "power_cost_ratio = np.divide(power, sp_cost)"
   ]
  },
  {
   "cell_type": "markdown",
   "metadata": {},
   "source": [
    "To show the results, we'll display the results in a dataframe with two columns:\n",
    "* Move Name\n",
    "* Power to Cost Ratio\n",
    "\n",
    "This will be sorted in descending order to show which moves have the highest power to cost ratio. To do this, we create an empty dataframe and add the columns manually."
   ]
  },
  {
   "cell_type": "code",
   "execution_count": 13,
   "metadata": {},
   "outputs": [
    {
     "name": "stdout",
     "output_type": "stream",
     "text": [
      "                         Moves Power_cost_ratios\n",
      "80              Heavy Strike I           23.3333\n",
      "0                Wolkenapalm I           21.6667\n",
      "10               Ice Archery I           21.6667\n",
      "40              Comet Hammer I           21.6667\n",
      "50                 Wind Claw I           21.6667\n",
      "30         Nanomachine Break I           21.6667\n",
      "60             Saint Knuckle I           21.6667\n",
      "70        Destruction Cannon I           21.6667\n",
      "20             Crescent Leaf I           21.6667\n",
      "83              Power Energy I                20\n",
      "156               Hyper Cannon                20\n",
      "73                 Nightmare I           18.3333\n",
      "53                Sonic Void I           18.3333\n",
      "63                Holy Light I           18.3333\n",
      "23              Gaia Element I           18.3333\n",
      "3                Burst Flame I           18.3333\n",
      "33          Heaven's Thunder I           18.3333\n",
      "43                Grand Rock I           18.3333\n",
      "13               Hydro Water I           18.3333\n",
      "207             Atomic Blaster           16.6667\n",
      "89              Physical Drain           16.6667\n",
      "81             Heavy Strike II                15\n",
      "92                     Bubbles                15\n",
      "121            Veemon Headbutt                15\n",
      "104               Crazy Giggle                15\n",
      "41             Comet Hammer II           14.1667\n",
      "31        Nanomachine Break II           14.1667\n",
      "51                Wind Claw II           14.1667\n",
      "11              Ice Archery II           14.1667\n",
      "61            Saint Knuckle II           14.1667\n",
      "..                         ...               ...\n",
      "166                 Kunai Wing                 3\n",
      "19                 Idle Bubble                 3\n",
      "170                 Razor Wind                 3\n",
      "91          Character Reversal                 3\n",
      "190          Wind Cutter Sword           2.66667\n",
      "194       Death Parade Blaster           2.66667\n",
      "211           Trident Revolver           2.66667\n",
      "290              Victory Sword               2.6\n",
      "162                Meteor Wing               2.5\n",
      "243                 Burst Shot               2.5\n",
      "171              Turbo Stinger               2.5\n",
      "216              Darkness Wave           2.33333\n",
      "269              Ice Wolf Claw              2.25\n",
      "296              Dragon's Roar               2.2\n",
      "175             Spider Shooter                 2\n",
      "291            Dragonic Impact                 2\n",
      "165           Super Stinky Jet                 2\n",
      "255                Trump Sword              1.75\n",
      "257              Platinum Junk               1.5\n",
      "300               Plasma Shoot               1.4\n",
      "231   Quake!Blast!Fire!Father!               1.4\n",
      "274          Spiral Masquerade               1.2\n",
      "219   Blade of the Dragon King               1.2\n",
      "238     Judgement of the Blade               1.2\n",
      "234                Waltz's End               1.2\n",
      "281             Mourning Dance                 1\n",
      "148                Golden Rush                 1\n",
      "244             Mach Stinger V                 1\n",
      "261              Double Impact               0.8\n",
      "242  Strike of the Seven Stars              0.75\n",
      "\n",
      "[301 rows x 2 columns]\n"
     ]
    }
   ],
   "source": [
    "# Create new matrix to add original matrix and extra column to\n",
    "result_df = pd.DataFrame()\n",
    "result_df[\"Moves\"] = moves_matrix[:, 0]\n",
    "result_df[\"Power_cost_ratios\"] = power_cost_ratio\n",
    "\n",
    "sorted_df = result_df.sort_values(by=\"Power_cost_ratios\", ascending=False)\n",
    "print(sorted_df)\n"
   ]
  },
  {
   "cell_type": "markdown",
   "metadata": {},
   "source": [
    "### Challenge 2: Which team of 3 digimon have the highest attack/defense?\n",
    "\n",
    "Gonna split this into 3 parts:\n",
    "* Team with the highest attack\n",
    "* Team with the highest defense\n",
    "* Team with the highest combination attack/defense\n",
    "\n",
    "First step is get numpy array with 3 cols:\n",
    "* Digimon name\n",
    "* Attack\n",
    "* Defense"
   ]
  },
  {
   "cell_type": "code",
   "execution_count": 26,
   "metadata": {},
   "outputs": [
    {
     "name": "stdout",
     "output_type": "stream",
     "text": [
      "(249, 3)\n",
      "                  Digimon  Lv50 Atk  Lv50 Def\n",
      "0                 Kuramon        79        69\n",
      "1                 Pabumon        76        76\n",
      "2                 Punimon        97        87\n",
      "3                 Botamon        77        95\n",
      "4                 Poyomon        54        59\n",
      "5                 Koromon       109        93\n",
      "6                 Tanemon        85        82\n",
      "7                Tsunomon       107        92\n",
      "8                Tsumemon       108        64\n",
      "9                 Tokomon        76        74\n",
      "10               Nyaromon        54        64\n",
      "11                Pagumon        60        63\n",
      "12                Yokomon        82        82\n",
      "13                Bukamon        54        74\n",
      "14                Motimon        82        81\n",
      "15               Wanyamon        79        75\n",
      "16                 Agumon       131       103\n",
      "17           Agumon (Blk)       124       108\n",
      "18           Armadillomon        67       111\n",
      "19                 Impmon        83        65\n",
      "20                Elecmon        82        79\n",
      "21               Otamamon        52        75\n",
      "22                 Gaomon       118        74\n",
      "23                Gazimon       123        64\n",
      "24                Gabumon        94        81\n",
      "25          Gabumon (Blk)        99        89\n",
      "26                Guilmon       133        74\n",
      "27                Kudamon        53        74\n",
      "28                Keramon       123        69\n",
      "29               Gotsumon        93       118\n",
      "..                    ...       ...       ...\n",
      "219        MirageGaogamon       183       114\n",
      "220         Machinedramon       173       183\n",
      "221           MetalEtemon       134       188\n",
      "222        MetalGarurumon       154       129\n",
      "223  MetalGarurumon (Blk)       163       173\n",
      "224        MetalSeadramon        99       139\n",
      "225         RustTyranomon       218       163\n",
      "226              Leviamon       168       158\n",
      "227             Lilithmon        99       104\n",
      "228               Ravemon       139       119\n",
      "229           Crusadermon       144       139\n",
      "230               Rosemon       144       129\n",
      "231              Lotosmon        74       109\n",
      "232     Imperialdramon PM       154       154\n",
      "233               Omnimon       208       168\n",
      "234         Omnimon Zwart       153       193\n",
      "235          Belphemon RM       247       168\n",
      "236            Lucemon SM        89       124\n",
      "237           Flamedramon       119        99\n",
      "238              Magnamon       168       208\n",
      "239      Rapidmon (Armor)       158       178\n",
      "240        Kerpymon (Blk)        94        94\n",
      "241          Beelzemon BM       238       124\n",
      "242            Darkdramon       188       148\n",
      "243              Chaosmon       318        94\n",
      "244            Valkyrimon       148       129\n",
      "245       ShineGreymon BM       228       104\n",
      "246     MirageGaogamon BM       178       104\n",
      "247            Ravemon BM       149       139\n",
      "248            Rosemon BM       149       139\n",
      "\n",
      "[249 rows x 3 columns]\n"
     ]
    }
   ],
   "source": [
    "digi_stats_df = digimon_df.loc[:, ['Digimon', 'Lv50 Atk', 'Lv50 Def']]\n",
    "print(digi_stats_df.shape)\n",
    "print(digi_stats_df)"
   ]
  },
  {
   "cell_type": "markdown",
   "metadata": {},
   "source": [
    "#### Team with the highest attack\n",
    "Steps:\n",
    "1. Sort array by attack column\n",
    "2. Select top 3 Digimon"
   ]
  },
  {
   "cell_type": "code",
   "execution_count": 22,
   "metadata": {},
   "outputs": [
    {
     "name": "stdout",
     "output_type": "stream",
     "text": [
      "          Digimon  Lv50 Atk  Lv50 Def\n",
      "243      Chaosmon       318        94\n",
      "235  Belphemon RM       247       168\n",
      "195    Diaboromon       243       104\n"
     ]
    }
   ],
   "source": [
    "print(digi_stats_df.sort_values(by='Lv50 Atk', ascending=False)[:3])"
   ]
  },
  {
   "cell_type": "markdown",
   "metadata": {},
   "source": [
    "#### Team with the highest defence\n",
    "Steps:\n",
    "1. Sort dataframe by defense column\n",
    "2. Select top 3 Digimon\n"
   ]
  },
  {
   "cell_type": "code",
   "execution_count": 23,
   "metadata": {},
   "outputs": [
    {
     "name": "stdout",
     "output_type": "stream",
     "text": [
      "           Digimon  Lv50 Atk  Lv50 Def\n",
      "181  GroundLocomon       144       213\n",
      "182      Craniamon       124       208\n",
      "238       Magnamon       168       208\n"
     ]
    }
   ],
   "source": [
    "print(digi_stats_df.sort_values(by='Lv50 Def', ascending=False)[:3])"
   ]
  },
  {
   "cell_type": "markdown",
   "metadata": {},
   "source": [
    "#### Team with the highest combo attack defence\n",
    "Steps:\n",
    "1. Get sum of attack & defence column\n",
    "2. Add to stats dataframe\n",
    "3. Sort dataframe by combo column\n",
    "4. Get top 3 digimon"
   ]
  },
  {
   "cell_type": "code",
   "execution_count": 27,
   "metadata": {},
   "outputs": [
    {
     "name": "stdout",
     "output_type": "stream",
     "text": [
      "                  Digimon  Lv50 Atk  Lv50 Def combo_stats\n",
      "0                 Kuramon        79        69         148\n",
      "1                 Pabumon        76        76         152\n",
      "2                 Punimon        97        87         184\n",
      "3                 Botamon        77        95         172\n",
      "4                 Poyomon        54        59         113\n",
      "5                 Koromon       109        93         202\n",
      "6                 Tanemon        85        82         167\n",
      "7                Tsunomon       107        92         199\n",
      "8                Tsumemon       108        64         172\n",
      "9                 Tokomon        76        74         150\n",
      "10               Nyaromon        54        64         118\n",
      "11                Pagumon        60        63         123\n",
      "12                Yokomon        82        82         164\n",
      "13                Bukamon        54        74         128\n",
      "14                Motimon        82        81         163\n",
      "15               Wanyamon        79        75         154\n",
      "16                 Agumon       131       103         234\n",
      "17           Agumon (Blk)       124       108         232\n",
      "18           Armadillomon        67       111         178\n",
      "19                 Impmon        83        65         148\n",
      "20                Elecmon        82        79         161\n",
      "21               Otamamon        52        75         127\n",
      "22                 Gaomon       118        74         192\n",
      "23                Gazimon       123        64         187\n",
      "24                Gabumon        94        81         175\n",
      "25          Gabumon (Blk)        99        89         188\n",
      "26                Guilmon       133        74         207\n",
      "27                Kudamon        53        74         127\n",
      "28                Keramon       123        69         192\n",
      "29               Gotsumon        93       118         211\n",
      "..                    ...       ...       ...         ...\n",
      "219        MirageGaogamon       183       114         297\n",
      "220         Machinedramon       173       183         356\n",
      "221           MetalEtemon       134       188         322\n",
      "222        MetalGarurumon       154       129         283\n",
      "223  MetalGarurumon (Blk)       163       173         336\n",
      "224        MetalSeadramon        99       139         238\n",
      "225         RustTyranomon       218       163         381\n",
      "226              Leviamon       168       158         326\n",
      "227             Lilithmon        99       104         203\n",
      "228               Ravemon       139       119         258\n",
      "229           Crusadermon       144       139         283\n",
      "230               Rosemon       144       129         273\n",
      "231              Lotosmon        74       109         183\n",
      "232     Imperialdramon PM       154       154         308\n",
      "233               Omnimon       208       168         376\n",
      "234         Omnimon Zwart       153       193         346\n",
      "235          Belphemon RM       247       168         415\n",
      "236            Lucemon SM        89       124         213\n",
      "237           Flamedramon       119        99         218\n",
      "238              Magnamon       168       208         376\n",
      "239      Rapidmon (Armor)       158       178         336\n",
      "240        Kerpymon (Blk)        94        94         188\n",
      "241          Beelzemon BM       238       124         362\n",
      "242            Darkdramon       188       148         336\n",
      "243              Chaosmon       318        94         412\n",
      "244            Valkyrimon       148       129         277\n",
      "245       ShineGreymon BM       228       104         332\n",
      "246     MirageGaogamon BM       178       104         282\n",
      "247            Ravemon BM       149       139         288\n",
      "248            Rosemon BM       149       139         288\n",
      "\n",
      "[249 rows x 4 columns]\n"
     ]
    }
   ],
   "source": [
    "attack_col = digi_stats_df.values[:, 1]\n",
    "defense_col = digi_stats_df.values[:, 2]\n",
    "combo_stats = np.add(attack_col, defense_col)\n",
    "\n",
    "digi_stats_df[\"combo_stats\"] = combo_stats\n",
    "print(digi_stats_df)"
   ]
  },
  {
   "cell_type": "code",
   "execution_count": 28,
   "metadata": {},
   "outputs": [
    {
     "name": "stdout",
     "output_type": "stream",
     "text": [
      "          Digimon  Lv50 Atk  Lv50 Def combo_stats\n",
      "235  Belphemon RM       247       168         415\n",
      "243      Chaosmon       318        94         412\n",
      "203  BanchoLeomon       193       188         381\n"
     ]
    }
   ],
   "source": [
    "print(digi_stats_df.sort_values(by='combo_stats', ascending=False)[:3])"
   ]
  },
  {
   "cell_type": "code",
   "execution_count": null,
   "metadata": {},
   "outputs": [],
   "source": []
  }
 ],
 "metadata": {
  "kernelspec": {
   "display_name": "digimon",
   "language": "python",
   "name": "digimon"
  },
  "language_info": {
   "codemirror_mode": {
    "name": "ipython",
    "version": 3
   },
   "file_extension": ".py",
   "mimetype": "text/x-python",
   "name": "python",
   "nbconvert_exporter": "python",
   "pygments_lexer": "ipython3",
   "version": "3.7.0"
  }
 },
 "nbformat": 4,
 "nbformat_minor": 2
}
